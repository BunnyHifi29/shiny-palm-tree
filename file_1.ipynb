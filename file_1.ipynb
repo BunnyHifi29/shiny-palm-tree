{
  "nbformat": 4,
  "nbformat_minor": 0,
  "metadata": {
    "colab": {
      "provenance": [],
      "authorship_tag": "ABX9TyNJYb6bKghMZxaOTcxyT4Y/",
      "include_colab_link": true
    },
    "kernelspec": {
      "name": "python3",
      "display_name": "Python 3"
    },
    "language_info": {
      "name": "python"
    }
  },
  "cells": [
    {
      "cell_type": "markdown",
      "metadata": {
        "id": "view-in-github",
        "colab_type": "text"
      },
      "source": [
        "<a href=\"https://colab.research.google.com/github/BunnyHifi29/shiny-palm-tree/blob/main/file_1.ipynb\" target=\"_parent\"><img src=\"https://colab.research.google.com/assets/colab-badge.svg\" alt=\"Open In Colab\"/></a>"
      ]
    },
    {
      "cell_type": "code",
      "execution_count": null,
      "metadata": {
        "id": "q1lLG5vV_OUg"
      },
      "outputs": [],
      "source": [
        "# ant\n",
        "# boy cat dog elephant \n",
        "# fox\n",
        "# fish"
      ]
    }
  ]
}